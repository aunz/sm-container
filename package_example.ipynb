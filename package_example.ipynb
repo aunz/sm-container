{
 "cells": [
  {
   "cell_type": "markdown",
   "metadata": {},
   "source": [
    "# Example of creating a package"
   ]
  },
  {
   "cell_type": "code",
   "execution_count": null,
   "metadata": {},
   "outputs": [],
   "source": [
    "# install Python & create venv\n",
    "# cd to correct dir\n",
    "./configure --prefix=/home/ec2-user/SageMaker/tmp/python/\n",
    "make\n",
    "make install\n",
    "\n",
    "# now new python is in \n",
    "/home/ec2-user/SageMaker/tmp/python/\n",
    "\n",
    "# create a new venv\n",
    "\n",
    "v=\"/dev/shm/venv/\"\n",
    "# /home/ec2-user/SageMaker/tmp/python/bin/python3 -m venv $v --clear # broken as python 3.7 needs libffi-dev \n",
    "/home/ec2-user/anaconda3/envs/JupyterSystemEnv/bin/python3 -m venv $v --clear\n",
    "source $v\"bin/activate\"\n",
    "pip install --no-index ~/SageMaker/tmp/pip-20.0.2-py2.py3-none-any.whl\n",
    "pip install --no-index ~/SageMaker/tmp/setuptools-46.1.1-py3-none-any.whl\n",
    "\n",
    "\n",
    "# stash away the venv\n",
    "cp -rf /dev/shm/venv /dev/shm/venv0\n",
    "\n",
    "# each time using the /dev/shm/venv\n",
    "rm -rf /dev/shm/venv\n",
    "cp -rf /dev/shm/venv0 /dev/shm/venv"
   ]
  },
  {
   "cell_type": "markdown",
   "metadata": {},
   "source": [
    "### create a script to init some files"
   ]
  },
  {
   "cell_type": "code",
   "execution_count": 1,
   "metadata": {},
   "outputs": [],
   "source": [
    "d0 = '/dev/shm/test_package/'\n",
    "d = d0 + 'fruit/'"
   ]
  },
  {
   "cell_type": "code",
   "execution_count": 2,
   "metadata": {},
   "outputs": [
    {
     "name": "stdout",
     "output_type": "stream",
     "text": [
      "Overwriting /dev/shm/init.sh\n"
     ]
    }
   ],
   "source": [
    "%%writefile /dev/shm/init.sh\n",
    "#!/bin/bash\n",
    "d0=\"/dev/shm/test_package/\"\n",
    "d=$d0\"fruit/\"\n",
    "\n",
    "[[ -v V ]] && echo -e \"init dir\\n\"\n",
    "rm -rf $d0\n",
    "\n",
    "# create some dir structure\n",
    "mkdir -p $d0\"veg\"\n",
    "mkdir -p $d\n",
    "mkdir -p $d\"citrus\"\n",
    "mkdir -p $d\"citrus/orange\"\n",
    "mkdir -p $d\"citrus/orange/common\"\n",
    "mkdir -p $d\"citrus/orange/navel\"\n",
    "# mkdir -p $d\"citrus/orange/valencia\"\n",
    "mkdir -p $d\"citrus/mandarin\"\n",
    "# mkdir -p $d\"citrus\\grapefruit\"\n",
    "mkdir -p $d\"berrie\"\n",
    "# mkdir -p $d\"stone\"\n",
    "\n",
    "touch $d0\"empty.py\"\n",
    "echo -e \"123 fruit\" > $d\"fruit.txt\"\n",
    "echo -e \"123 orange text\" > $d\"citrus/orange/orange.txt\"\n",
    "\n",
    "echo -e \"123 veg\" > $d0\"veg/veg.txt\"\n",
    "\n",
    "\n",
    "# if Verbsoe, print the tree\n",
    "[[ -v V ]] && find ${d0::-1} | sed -e \"s/[^-][^\\/]*\\// |/g\" -e \"s/|\\([^ ]\\)/|-\\1/\"\n",
    "# ls -R /tmp/test_package | grep \":$\" | sed -e 's/:$//' -e 's/[^-][^\\/]*\\//--/g' -e 's/^/   /' -e 's/-/|/'"
   ]
  },
  {
   "cell_type": "code",
   "execution_count": 3,
   "metadata": {},
   "outputs": [],
   "source": [
    "!chmod +x /dev/shm/init.sh"
   ]
  },
  {
   "cell_type": "code",
   "execution_count": 4,
   "metadata": {},
   "outputs": [
    {
     "name": "stdout",
     "output_type": "stream",
     "text": [
      "init dir\r\n",
      "\r\n",
      " | |-test_package\r\n",
      " | | |-empty.py\r\n",
      " | | |-fruit\r\n",
      " | | | |-fruit.txt\r\n",
      " | | | |-berrie\r\n",
      " | | | |-citrus\r\n",
      " | | | | |-mandarin\r\n",
      " | | | | |-orange\r\n",
      " | | | | | |-orange.txt\r\n",
      " | | | | | |-navel\r\n",
      " | | | | | |-common\r\n",
      " | | |-veg\r\n",
      " | | | |-veg.txt\r\n"
     ]
    }
   ],
   "source": [
    "!V=1 /dev/shm/init.sh"
   ]
  },
  {
   "cell_type": "markdown",
   "metadata": {},
   "source": [
    "### setuptools need \\_\\_init\\_\\_.py to find packages"
   ]
  },
  {
   "cell_type": "code",
   "execution_count": 5,
   "metadata": {},
   "outputs": [
    {
     "name": "stdout",
     "output_type": "stream",
     "text": [
      "No __init__.py --- Packages: []\n",
      "\n",
      "fruit has __init__.py --- Packages: ['fruit']\n",
      "\n",
      "All have __init__.py --- Packages: ['fruit', 'veg', 'fruit.berrie', 'fruit.citrus', 'fruit.citrus.mandarin', 'fruit.citrus.orange', 'fruit.citrus.orange.navel', 'fruit.citrus.orange.common']\n",
      "\n",
      " | |-test_package\n",
      " | | |-__init__.py\n",
      " | | |-empty.py\n",
      " | | |-fruit\n",
      " | | | |-__init__.py\n",
      " | | | |-fruit.txt\n",
      " | | | |-berrie\n",
      " | | | | |-__init__.py\n",
      " | | | |-citrus\n",
      " | | | | |-__init__.py\n",
      " | | | | |-mandarin\n",
      " | | | | | |-__init__.py\n",
      " | | | | |-orange\n",
      " | | | | | |-__init__.py\n",
      " | | | | | |-orange.txt\n",
      " | | | | | |-navel\n",
      " | | | | | | |-__init__.py\n",
      " | | | | | |-common\n",
      " | | | | | | |-__init__.py\n",
      " | | |-veg\n",
      " | | | |-__init__.py\n",
      " | | | |-veg.txt\n",
      "\n",
      "Clean up and init again\n"
     ]
    }
   ],
   "source": [
    "%%bash\n",
    "\n",
    "d0=\"/dev/shm/test_package/\"\n",
    "d=$d0\"fruit/\"\n",
    "\n",
    "\n",
    "function f() {\n",
    "    cd $d0\n",
    "    printf \"$1 --- Packages: \"\n",
    "    python3 -c \"print(__import__('setuptools').find_packages())\"\n",
    "} \n",
    "\n",
    "\n",
    "# without the __init__.py, the setuptools can't find any package\n",
    "find $d0 -name __init__.py -exec rm -f {} + # remove all the __init__.py\n",
    "f \"No __init__.py\";\n",
    "\n",
    "\n",
    "# create __init__.py at the top level\n",
    "touch $d\"__init__.py\"\n",
    "f \"\\nfruit has __init__.py\"\n",
    "\n",
    "\n",
    "# # create __init__.py recursively \n",
    "find ${d0::-1} -type d -exec touch {}/__init__.py \\;\n",
    "f \"\\nAll have __init__.py\"\n",
    "\n",
    "\n",
    "# tree\n",
    "echo\n",
    "find ${d0::-1} | sed -e \"s/[^-][^\\/]*\\// |/g\" -e \"s/|\\([^ ]\\)/|-\\1/\"\n",
    "\n",
    "\n",
    "# clean up\n",
    "echo -e \"\\nClean up and init again\"\n",
    "PrintTree=1 /dev/shm/init.sh\n"
   ]
  },
  {
   "cell_type": "code",
   "execution_count": null,
   "metadata": {},
   "outputs": [],
   "source": []
  },
  {
   "cell_type": "markdown",
   "metadata": {},
   "source": [
    "## Make a virtual env"
   ]
  },
  {
   "cell_type": "markdown",
   "metadata": {},
   "source": [
    "### Script to \"clone\" a new env"
   ]
  },
  {
   "cell_type": "code",
   "execution_count": 6,
   "metadata": {},
   "outputs": [
    {
     "name": "stdout",
     "output_type": "stream",
     "text": [
      "Writing /dev/shm/env.sh\n"
     ]
    }
   ],
   "source": [
    "%%writefile /dev/shm/env.sh\n",
    "#!/bin/bash\n",
    "[[ -v V ]] && echo \"actiave venv\"\n",
    "\n",
    "# make /dev/shm/venv/ is installed already\n",
    "export v=\"/dev/shm/venv/\"\n",
    "rm -rf $v\n",
    "cp -rf ${v::-1}0 $v\n",
    "source $v\"bin/activate\"\n",
    "\n",
    "[[ -v V ]] && echo $(which python && python --version)\n",
    "[[ -v V ]] && echo $(which pip && pip --version) # should be 20+"
   ]
  },
  {
   "cell_type": "code",
   "execution_count": 7,
   "metadata": {},
   "outputs": [],
   "source": [
    "!chmod +x /dev/shm/env.sh"
   ]
  },
  {
   "cell_type": "code",
   "execution_count": 8,
   "metadata": {},
   "outputs": [
    {
     "name": "stdout",
     "output_type": "stream",
     "text": [
      "actiave venv\n",
      "Python 3.6.10 :: Anaconda, Inc.\n",
      "/dev/shm/venv/bin/python\n",
      "/dev/shm/venv/bin/pip pip 20.0.2 from /dev/shm/venv/lib/python3.6/site-packages/pip (python 3.6)\n"
     ]
    }
   ],
   "source": [
    "!V=1 /dev/shm/env.sh"
   ]
  },
  {
   "cell_type": "markdown",
   "metadata": {},
   "source": [
    "### Script to install setup.py\n",
    "\n",
    "Before installing, clean up the /dev/shm/test_package\n",
    "1. Clone a new venv\n",
    "2. copy the $1 into setup.py\n",
    "3. pip install\n",
    "4. ls the install dir\n"
   ]
  },
  {
   "cell_type": "code",
   "execution_count": 9,
   "metadata": {},
   "outputs": [
    {
     "name": "stdout",
     "output_type": "stream",
     "text": [
      "Writing /dev/shm/install.sh\n"
     ]
    }
   ],
   "source": [
    "%%writefile /dev/shm/install.sh\n",
    "#!/bin/bash\n",
    "source /dev/shm/env.sh # clone venv\n",
    "\n",
    "# create the setup.py\n",
    "cd /dev/shm/test_package/\n",
    "[[ -v V ]] && echo -e \"\\nPWD: $(pwd) \\n\"\n",
    "echo \"$1\" > setup.py\n",
    "\n",
    "pip install --no-index --no-cache-dir --no-compile .\n",
    "\n",
    "echo\n",
    "ls /dev/shm/venv/lib/python3.6/site-packages/\n",
    "\n",
    "echo\n",
    "find /dev/shm/venv/lib/python3.6/site-packages/fruit | sed -e \"s/[^-][^\\/]*\\// |/g\" -e \"s/|\\([^ ]\\)/|-\\1/\";\n"
   ]
  },
  {
   "cell_type": "code",
   "execution_count": 10,
   "metadata": {},
   "outputs": [],
   "source": [
    "!chmod +x /dev/shm/install.sh"
   ]
  },
  {
   "cell_type": "code",
   "execution_count": 11,
   "metadata": {},
   "outputs": [
    {
     "name": "stdout",
     "output_type": "stream",
     "text": [
      "actiave venv\n",
      "Python 3.6.10 :: Anaconda, Inc.\n",
      "/dev/shm/venv/bin/python\n",
      "/dev/shm/venv/bin/pip pip 20.0.2 from /dev/shm/venv/lib/python3.6/site-packages/pip (python 3.6)\n",
      "\n",
      "PWD: /dev/shm/test_package \n",
      "\n",
      "Processing /dev/shm/test_package\n",
      "Installing collected packages: UNKNOWN\n",
      "    Running setup.py install for UNKNOWN ... \u001b[?25ldone\n",
      "\u001b[?25hSuccessfully installed UNKNOWN-0.0.0\n",
      "\n",
      "easy_install.py       pkg_resources  setuptools-46.1.1.dist-info\n",
      "pip\t\t      __pycache__    UNKNOWN-0.0.0-py3.6.egg-info\n",
      "pip-20.0.2.dist-info  setuptools\n",
      "\n",
      "find: `/dev/shm/venv/lib/python3.6/site-packages/fruit': No such file or directory\n"
     ]
    }
   ],
   "source": [
    "!/dev/shm/init.sh\n",
    "!V=1 /dev/shm/install.sh \"__import__('setuptools').setup()\""
   ]
  },
  {
   "cell_type": "markdown",
   "metadata": {},
   "source": [
    "## Installing package "
   ]
  },
  {
   "cell_type": "markdown",
   "metadata": {},
   "source": [
    "### No package\n",
    "No fruit is installed, as `packages=['']`"
   ]
  },
  {
   "cell_type": "code",
   "execution_count": 12,
   "metadata": {},
   "outputs": [
    {
     "name": "stdout",
     "output_type": "stream",
     "text": [
      "Processing /dev/shm/test_package\n",
      "Installing collected packages: myPackage\n",
      "    Running setup.py install for myPackage: started\n",
      "    Running setup.py install for myPackage: finished with status 'done'\n",
      "Successfully installed myPackage-0.0.0\n",
      "\n",
      "easy_install.py\n",
      "empty.py\n",
      "myPackage-0.0.0-py3.6.egg-info\n",
      "pip\n",
      "pip-20.0.2.dist-info\n",
      "pkg_resources\n",
      "__pycache__\n",
      "setuptools\n",
      "setuptools-46.1.1.dist-info\n",
      "\n"
     ]
    },
    {
     "name": "stderr",
     "output_type": "stream",
     "text": [
      "find: `/dev/shm/venv/lib/python3.6/site-packages/fruit': No such file or directory\n"
     ]
    }
   ],
   "source": [
    "%%bash\n",
    "f=\"from setuptools import setup, find_packages\n",
    "setup(\n",
    "    name='myPackage', # can be anything, space, hyphen, cases\n",
    "    packages=[''],\n",
    ")\"\n",
    "\n",
    "/dev/shm/init.sh\n",
    "/dev/shm/install.sh \"$f\""
   ]
  },
  {
   "cell_type": "markdown",
   "metadata": {},
   "source": [
    "### No \\_\\_init\\_\\_.py\n",
    "Also no fruit is installed"
   ]
  },
  {
   "cell_type": "code",
   "execution_count": 14,
   "metadata": {},
   "outputs": [
    {
     "name": "stdout",
     "output_type": "stream",
     "text": [
      "Processing /dev/shm/test_package\n",
      "Installing collected packages: myPackage\n",
      "    Running setup.py install for myPackage: started\n",
      "    Running setup.py install for myPackage: finished with status 'done'\n",
      "Successfully installed myPackage-0.0.0\n",
      "\n",
      "easy_install.py\n",
      "myPackage-0.0.0-py3.6.egg-info\n",
      "pip\n",
      "pip-20.0.2.dist-info\n",
      "pkg_resources\n",
      "__pycache__\n",
      "setuptools\n",
      "setuptools-46.1.1.dist-info\n",
      "\n"
     ]
    },
    {
     "name": "stderr",
     "output_type": "stream",
     "text": [
      "find: `/dev/shm/venv/lib/python3.6/site-packages/fruit': No such file or directory\n"
     ]
    }
   ],
   "source": [
    "%%bash\n",
    "f=\"from setuptools import setup, find_packages\n",
    "setup(\n",
    "    name='myPackage', # can be anything, space, hyphen, cases\n",
    "    packages=[*find_packages()],\n",
    ")\"\n",
    "\n",
    "/dev/shm/init.sh\n",
    "/dev/shm/install.sh \"$f\"\n",
    "# no fruit package installed since there is no __init__.py"
   ]
  },
  {
   "cell_type": "markdown",
   "metadata": {},
   "source": [
    "### \\_\\_init\\_\\_.py in some"
   ]
  },
  {
   "cell_type": "code",
   "execution_count": 15,
   "metadata": {},
   "outputs": [
    {
     "name": "stdout",
     "output_type": "stream",
     "text": [
      "Processing /dev/shm/test_package\n",
      "Installing collected packages: myPackage\n",
      "    Running setup.py install for myPackage: started\n",
      "    Running setup.py install for myPackage: finished with status 'done'\n",
      "Successfully installed myPackage-0.0.0\n",
      "\n",
      "easy_install.py\n",
      "fruit\n",
      "myPackage-0.0.0-py3.6.egg-info\n",
      "pip\n",
      "pip-20.0.2.dist-info\n",
      "pkg_resources\n",
      "__pycache__\n",
      "setuptools\n",
      "setuptools-46.1.1.dist-info\n",
      "\n",
      " | | | | | |-fruit\n",
      " | | | | | | |-fruit.py\n",
      " | | | | | | |-__init__.py\n",
      "\n",
      "show some testing\n",
      "\n",
      "__init__ from fruit\n",
      "__init__ from fruit\n",
      "Fruit\n",
      "__init__ from fruit\n"
     ]
    },
    {
     "name": "stderr",
     "output_type": "stream",
     "text": [
      "Traceback (most recent call last):\n",
      "  File \"<string>\", line 1, in <module>\n",
      "ModuleNotFoundError: No module named 'fruit.citrus'\n"
     ]
    }
   ],
   "source": [
    "%%bash\n",
    "f=\"from setuptools import setup, find_packages\n",
    "setup(\n",
    "    name='myPackage', # can be anything, space, hyphen, cases\n",
    "    packages=[*find_packages()],\n",
    ")\"\n",
    "\n",
    "/dev/shm/init.sh\n",
    "echo \"print('__init__ from fruit')\" > /dev/shm/test_package/fruit/__init__.py\n",
    "echo \"print('Fruit')\" > /dev/shm/test_package/fruit/fruit.py\n",
    "\n",
    "\n",
    "/dev/shm/install.sh \"$f\" # There is a fruit package\n",
    "\n",
    "cd ~ && echo -e \"\\nshow some testing\\n\" && source /dev/shm/venv/bin/activate\n",
    "\n",
    "python -c \"import fruit\" # should work\n",
    "python -c \"import fruit.fruit\" # should work\n",
    "python -c \"import fruit.citrus\" # should not work"
   ]
  },
  {
   "cell_type": "markdown",
   "metadata": {},
   "source": [
    "### \\_\\_inti\\_\\_.py in all"
   ]
  },
  {
   "cell_type": "code",
   "execution_count": 16,
   "metadata": {},
   "outputs": [
    {
     "name": "stdout",
     "output_type": "stream",
     "text": [
      "Processing /dev/shm/test_package\n",
      "Installing collected packages: myPackage\n",
      "    Running setup.py install for myPackage: started\n",
      "    Running setup.py install for myPackage: finished with status 'done'\n",
      "Successfully installed myPackage-0.0.0\n",
      "\n",
      "easy_install.py\n",
      "fruit\n",
      "myPackage-0.0.0-py3.6.egg-info\n",
      "pip\n",
      "pip-20.0.2.dist-info\n",
      "pkg_resources\n",
      "__pycache__\n",
      "setuptools\n",
      "setuptools-46.1.1.dist-info\n",
      "veg\n",
      "\n",
      " | | | | | |-fruit\n",
      " | | | | | | |-berrie\n",
      " | | | | | | | |-__init__.py\n",
      " | | | | | | |-__init__.py\n",
      " | | | | | | |-citrus\n",
      " | | | | | | | |-mandarin\n",
      " | | | | | | | | |-__init__.py\n",
      " | | | | | | | |-__init__.py\n",
      " | | | | | | | |-orange\n",
      " | | | | | | | | |-common\n",
      " | | | | | | | | | |-__init__.py\n",
      " | | | | | | | | |-__init__.py\n",
      " | | | | | | | | |-navel\n",
      " | | | | | | | | | |-__init__.py\n",
      "\n",
      "show some testing\n",
      "\n",
      "__init__ from fruit\n",
      "__init__ from fruit\n",
      "citrus\n",
      "\n",
      "step out of the venv\n"
     ]
    },
    {
     "name": "stderr",
     "output_type": "stream",
     "text": [
      "Traceback (most recent call last):\n",
      "  File \"<string>\", line 1, in <module>\n",
      "ModuleNotFoundError: No module named 'fruit'\n"
     ]
    }
   ],
   "source": [
    "%%bash\n",
    "f=\"from setuptools import setup, find_packages\n",
    "setup(\n",
    "    name='myPackage', # can be anything, space, hyphen, cases\n",
    "    packages=[*find_packages()],\n",
    ")\"\n",
    "\n",
    "/dev/shm/init.sh\n",
    "find /dev/shm/test_package/ -type d -exec touch {}/__init__.py \\; # insert __init__.py into all dirs\n",
    "echo -e \"print('__init__ from fruit')\" > /dev/shm/test_package/fruit/__init__.py\n",
    "echo -e \"print('citrus')\" > /dev/shm/test_package/fruit/citrus/__init__.py\n",
    "\n",
    "/dev/shm/install.sh \"$f\"\n",
    "\n",
    "cd ~ && echo -e \"\\nshow some testing\\n\" && source /dev/shm/venv/bin/activate\n",
    "\n",
    "python -c \"import fruit\" # should work\n",
    "python -c \"import fruit.citrus\" # should work too\n",
    "\n",
    "deactivate\n",
    "\n",
    "echo -e \"\\nstep out of the venv\"\n",
    "python -c \"import fruit\" # should not work"
   ]
  },
  {
   "cell_type": "code",
   "execution_count": 17,
   "metadata": {},
   "outputs": [
    {
     "name": "stdout",
     "output_type": "stream",
     "text": [
      "cd into /dev/shm/test_package/\n",
      "__init__ from fruit\n",
      "__init__ from fruit\n",
      "citrus\n"
     ]
    }
   ],
   "source": [
    "%%bash\n",
    "cd /dev/shm/test_package/\n",
    "\n",
    "echo -e \"cd into /dev/shm/test_package/\"\n",
    "python -c \"import fruit\" # should work\n",
    "python -c \"import fruit.citrus\" # should work"
   ]
  },
  {
   "cell_type": "code",
   "execution_count": 18,
   "metadata": {},
   "outputs": [
    {
     "name": "stdout",
     "output_type": "stream",
     "text": [
      "cd into /dev/shm/test_package/fruit\n",
      "\n",
      "berrie\n",
      "citrus\n",
      "fruit.txt\n",
      "__init__.py\n",
      "__pycache__\n",
      "\n",
      "citrus\n"
     ]
    },
    {
     "name": "stderr",
     "output_type": "stream",
     "text": [
      "Traceback (most recent call last):\n",
      "  File \"<string>\", line 1, in <module>\n",
      "ModuleNotFoundError: No module named 'fruit'\n"
     ]
    }
   ],
   "source": [
    "%%bash\n",
    "cd /dev/shm/test_package/fruit/\n",
    "\n",
    "echo -e \"cd into /dev/shm/test_package/fruit\\n\"\n",
    "ls\n",
    "echo\n",
    "python -c \"import citrus\" # should work\n",
    "python -c \"import fruit\" # should not work\n"
   ]
  },
  {
   "cell_type": "markdown",
   "metadata": {},
   "source": [
    "### with MANIFEST\n",
    "use `package=['fruit']` to include only fruit, no need for \\_\\_init\\_\\_.py"
   ]
  },
  {
   "cell_type": "code",
   "execution_count": 19,
   "metadata": {},
   "outputs": [
    {
     "name": "stdout",
     "output_type": "stream",
     "text": [
      "Processing /dev/shm/test_package\n",
      "Installing collected packages: myPackage\n",
      "    Running setup.py install for myPackage: started\n",
      "    Running setup.py install for myPackage: finished with status 'done'\n",
      "Successfully installed myPackage-0.0.0\n",
      "\n",
      "easy_install.py\n",
      "fruit\n",
      "myPackage-0.0.0-py3.6.egg-info\n",
      "pip\n",
      "pip-20.0.2.dist-info\n",
      "pkg_resources\n",
      "__pycache__\n",
      "setuptools\n",
      "setuptools-46.1.1.dist-info\n",
      "\n",
      " | | | | | |-fruit\n",
      " | | | | | | |-citrus\n",
      " | | | | | | | |-mandarin\n",
      " | | | | | | | | |-mandarin.py\n",
      " | | | | | | | |-orange\n",
      " | | | | | | | | |-orange.txt\n",
      " | | | | | | |-fruit.txt\n",
      "\n",
      "ls the dir:\n",
      "\n",
      "\n",
      "show some testing\n",
      "\n",
      "mandarin is called\n"
     ]
    },
    {
     "name": "stderr",
     "output_type": "stream",
     "text": [
      "Traceback (most recent call last):\n",
      "  File \"<string>\", line 1, in <module>\n",
      "ModuleNotFoundError: No module named 'fruit.berrie'\n",
      "Traceback (most recent call last):\n",
      "  File \"<string>\", line 1, in <module>\n",
      "ModuleNotFoundError: No module named 'fruit.citrus.orange.naval'\n"
     ]
    }
   ],
   "source": [
    "%%bash\n",
    "/dev/shm/init.sh\n",
    "\n",
    "f=\"from setuptools import setup, find_packages\n",
    "setup(\n",
    "    name='myPackage', # can be anything, space, hyphen, cases\n",
    "    # package_data={ '': ['*'] },\n",
    "    # package_dir={ 'fruit': 'fruit' },\n",
    "    # packages=find_packages(),\n",
    "    packages=['fruit'], # which dir to include\n",
    "    include_package_data=True, # must have this\n",
    ")\"\n",
    "\n",
    "# no need to have __init__.py\n",
    "\n",
    "echo -e \"global-include fruit *\n",
    "global-exclude __pycache__*\n",
    "global-exclude *.pyc\n",
    "global-exclude *.pyo\"> /dev/shm/test_package/MANIFEST.in\n",
    "\n",
    "echo -e \"print('mandarin is called')\" > /dev/shm/test_package/fruit/citrus/mandarin/mandarin.py\n",
    "\n",
    "/dev/shm/install.sh \"$f\"\n",
    "\n",
    "echo -e \"\\nls the dir:\\n\"\n",
    "\n",
    "cd ~ && echo -e \"\\nshow some testing\\n\" && source /dev/shm/venv/bin/activate\n",
    "\n",
    "\n",
    "python -c \"import fruit\" # should work\n",
    "python -c \"import fruit.citrus\" # should work\n",
    "python -c \"import fruit.citrus.orange\" # should work\n",
    "python -c \"import fruit.citrus.mandarin.mandarin\" # should work\n",
    "\n",
    "# only dir with file will be included\n",
    "python -c \"import fruit.berrie\" # should not work, because berrie has no file\n",
    "python -c \"import fruit.citrus.orange.naval\" # should not work work"
   ]
  },
  {
   "cell_type": "markdown",
   "metadata": {},
   "source": [
    "### with MANIFEST\n",
    "Specify `packages=['']` to include everything"
   ]
  },
  {
   "cell_type": "code",
   "execution_count": 20,
   "metadata": {},
   "outputs": [
    {
     "name": "stdout",
     "output_type": "stream",
     "text": [
      "Processing /dev/shm/test_package\n",
      "Installing collected packages: my-PackAge\n",
      "    Running setup.py install for my-PackAge: started\n",
      "    Running setup.py install for my-PackAge: finished with status 'done'\n",
      "Successfully installed my-PackAge-0.0.0\n",
      "\n",
      "easy_install.py\n",
      "empty.py\n",
      "fruit\n",
      "MANIFEST.in\n",
      "my_PackAge-0.0.0-py3.6.egg-info\n",
      "my_PackAge.egg-info\n",
      "pip\n",
      "pip-20.0.2.dist-info\n",
      "pip-delete-this-directory.txt\n",
      "pip-egg-info\n",
      "pkg_resources\n",
      "__pycache__\n",
      "setuptools\n",
      "setuptools-46.1.1.dist-info\n",
      "veg\n",
      "\n",
      " | | | | | |-fruit\n",
      " | | | | | | |-citrus\n",
      " | | | | | | | |-orange\n",
      " | | | | | | | | |-orange.txt\n",
      " | | | | | | |-fruit.txt\n",
      "\n",
      "ls the dir\n",
      "veg.txt\n"
     ]
    }
   ],
   "source": [
    "%%bash\n",
    "/dev/shm/init.sh\n",
    "\n",
    "f=\"from setuptools import setup, find_packages\n",
    "setup(\n",
    "    name='my PackAge', # can be anything, space, hyphen, cases\n",
    "    packages=[''], # everything\n",
    "    include_package_data=True, # must have this\n",
    ")\"\n",
    "\n",
    "echo -e \"global-include *\n",
    "global-exclude __pycache__*\n",
    "global-exclude *.pyc\n",
    "global-exclude *.pyo\"> /dev/shm/test_package/MANIFEST.in\n",
    "\n",
    "/dev/shm/install.sh \"$f\"\n",
    "\n",
    "echo -e \"\\nls the dir\"\n",
    "ls /dev/shm/venv/lib/python3.6/site-packages/veg/"
   ]
  },
  {
   "cell_type": "markdown",
   "metadata": {},
   "source": [
    "### with MANIFEST & exclude\n",
    ".py seem cannot be excluded"
   ]
  },
  {
   "cell_type": "code",
   "execution_count": 21,
   "metadata": {},
   "outputs": [
    {
     "name": "stdout",
     "output_type": "stream",
     "text": [
      "Processing /dev/shm/test_package\n",
      "Installing collected packages: my-PackAge\n",
      "    Running setup.py install for my-PackAge: started\n",
      "    Running setup.py install for my-PackAge: finished with status 'done'\n",
      "Successfully installed my-PackAge-0.0.0\n",
      "\n",
      "easy_install.py\n",
      "empty.py\n",
      "fruit\n",
      "MANIFEST.in\n",
      "my_PackAge-0.0.0-py3.6.egg-info\n",
      "my_PackAge.egg-info\n",
      "pip\n",
      "pip-20.0.2.dist-info\n",
      "pip-egg-info\n",
      "pkg_resources\n",
      "__pycache__\n",
      "setuptools\n",
      "setuptools-46.1.1.dist-info\n",
      "\n",
      " | | | | | |-fruit\n",
      " | | | | | | |-citrus\n",
      " | | | | | | | |-mandarin\n",
      " | | | | | | | | |-mandarin.py\n",
      "\n",
      "show some testing\n",
      "\n",
      "mandarin is called\n"
     ]
    },
    {
     "name": "stderr",
     "output_type": "stream",
     "text": [
      "Traceback (most recent call last):\n",
      "  File \"<string>\", line 1, in <module>\n",
      "ModuleNotFoundError: No module named 'fruit.citrus.orange'\n"
     ]
    }
   ],
   "source": [
    "%%bash\n",
    "/dev/shm/init.sh\n",
    "\n",
    "f=\"from setuptools import setup, find_packages\n",
    "setup(\n",
    "    name='my PackAge', # can be anything, space, hyphen, cases\n",
    "    packages=[''], # everything\n",
    "    include_package_data=True, # must have this\n",
    ")\"\n",
    "\n",
    "echo -e \"global-include *\n",
    "global-exclude __pycache__*\n",
    "global-exclude *.pyc\n",
    "global-exclude *.pyo\n",
    "global-exclude *.txt\n",
    "exclude empty.py\n",
    "\"> /dev/shm/test_package/MANIFEST.in\n",
    "\n",
    "# \n",
    "echo -e \"print('mandarin is called')\" > /dev/shm/test_package/fruit/citrus/mandarin/mandarin.py\n",
    "\n",
    "\n",
    "/dev/shm/install.sh \"$f\"\n",
    "\n",
    "echo -e \"\\nshow some testing\\n\"\n",
    "cd ~\n",
    "source /dev/shm/venv/bin/activate\n",
    "\n",
    "python -c \"import fruit\" # should work\n",
    "python -c \"import fruit.citrus\" # should work\n",
    "python -c \"import fruit.citrus.mandarin.mandarin\" # should work\n",
    "\n",
    "\n",
    "python -c \"import fruit.citrus.orange\" # should not work"
   ]
  },
  {
   "cell_type": "code",
   "execution_count": 22,
   "metadata": {},
   "outputs": [
    {
     "name": "stdout",
     "output_type": "stream",
     "text": [
      " | | | |\r\n",
      " | | | |-fruit.txt\r\n",
      " | | | |-berrie\r\n",
      " | | | |-citrus\r\n",
      " | | | | |-mandarin\r\n",
      " | | | | | |-mandarin.py\r\n",
      " | | | | |-orange\r\n",
      " | | | | | |-orange.txt\r\n",
      " | | | | | |-navel\r\n",
      " | | | | | |-common\r\n"
     ]
    }
   ],
   "source": [
    "!find $d | sed -e \"s/[^-][^\\/]*\\// |/g\" -e \"s/|\\([^ ]\\)/|-\\1/\""
   ]
  },
  {
   "cell_type": "markdown",
   "metadata": {},
   "source": [
    "### Integrated test"
   ]
  },
  {
   "cell_type": "code",
   "execution_count": 23,
   "metadata": {},
   "outputs": [
    {
     "name": "stdout",
     "output_type": "stream",
     "text": [
      "Writing /dev/shm/test.sh\n"
     ]
    }
   ],
   "source": [
    "%%writefile /dev/shm/test.sh\n",
    "#!/bin/bash\n",
    "d=\"/dev/shm/test_package/fruit/\"\n",
    "\n",
    "echo -e \"global-include *\"> /dev/shm/test_package/MANIFEST.in\n",
    "/dev/shm/install.sh \"__import__('setuptools').setup(name='A', packages=[''], include_package_data=True)\"\n",
    "\n",
    "cd ~ && echo -e \"\\nshow some testing\\n\" && source /dev/shm/venv/bin/activate"
   ]
  },
  {
   "cell_type": "code",
   "execution_count": 24,
   "metadata": {},
   "outputs": [],
   "source": [
    "!chmod +x /dev/shm/test.sh"
   ]
  },
  {
   "cell_type": "markdown",
   "metadata": {},
   "source": [
    "### Simple structure"
   ]
  },
  {
   "cell_type": "code",
   "execution_count": 26,
   "metadata": {},
   "outputs": [
    {
     "name": "stdout",
     "output_type": "stream",
     "text": [
      "Processing /dev/shm/test_package\n",
      "Installing collected packages: A\n",
      "    Running setup.py install for A: started\n",
      "    Running setup.py install for A: finished with status 'done'\n",
      "Successfully installed A-0.0.0\n",
      "\n",
      "A-0.0.0-py3.6.egg-info\n",
      "A.egg-info\n",
      "easy_install.py\n",
      "empty.py\n",
      "fruit\n",
      "MANIFEST.in\n",
      "pip\n",
      "pip-20.0.2.dist-info\n",
      "pip-delete-this-directory.txt\n",
      "pip-egg-info\n",
      "pkg_resources\n",
      "__pycache__\n",
      "setuptools\n",
      "setuptools-46.1.1.dist-info\n",
      "veg\n",
      "\n",
      " | | | | | |-fruit\n",
      " | | | | | | |-citrus\n",
      " | | | | | | | |-__init__.py\n",
      " | | | | | | | |-orange\n",
      " | | | | | | | | |-orange.txt\n",
      " | | | | | | |-fruit.txt\n",
      "\n",
      "show some testing\n",
      "\n",
      "citrus __init__\n"
     ]
    }
   ],
   "source": [
    "%%bash\n",
    "source /dev/shm/init.sh\n",
    "\n",
    "echo -e \"print('citrus __init__')\" > $d\"citrus/__init__.py\"\n",
    "source /dev/shm/test.sh\n",
    "\n",
    "python -c \"import fruit.citrus\""
   ]
  },
  {
   "cell_type": "markdown",
   "metadata": {},
   "source": [
    "### Running as normal script, without installing as package"
   ]
  },
  {
   "cell_type": "code",
   "execution_count": 28,
   "metadata": {},
   "outputs": [
    {
     "name": "stdout",
     "output_type": "stream",
     "text": [
      "/dev/shm/test_package/fruit\n",
      "citrus __init__ citrus\n",
      "orange __init__ citrus.orange\n"
     ]
    }
   ],
   "source": [
    "%%bash\n",
    "source /dev/shm/init.sh\n",
    "\n",
    "echo -e \"print('citrus __init__', __package__); import citrus.orange\" > $d\"citrus/__init__.py\"\n",
    "echo -e \"print('orange __init__', __package__)\" > $d\"citrus/orange/__init__.py\"\n",
    "\n",
    "# source /dev/shm/test.sh\n",
    "source /dev/shm/env.sh\n",
    "\n",
    "cd $d\n",
    "pwd\n",
    "python -c \"import citrus\""
   ]
  },
  {
   "cell_type": "code",
   "execution_count": 29,
   "metadata": {},
   "outputs": [
    {
     "name": "stdout",
     "output_type": "stream",
     "text": [
      "/dev/shm/test_package/fruit\n",
      "citrus __init__ citrus\n",
      "orange __init__ citrus.orange\n"
     ]
    }
   ],
   "source": [
    "%%bash\n",
    "source /dev/shm/init.sh\n",
    "\n",
    "echo -e \"print('citrus __init__', __package__); from citrus import orange\" > $d\"citrus/__init__.py\"\n",
    "echo -e \"print('orange __init__', __package__)\" > $d\"citrus/orange/__init__.py\"\n",
    "\n",
    "source /dev/shm/env.sh\n",
    "\n",
    "cd $d\n",
    "pwd\n",
    "python -c \"import citrus\""
   ]
  },
  {
   "cell_type": "markdown",
   "metadata": {},
   "source": [
    "### need to use relative import"
   ]
  },
  {
   "cell_type": "code",
   "execution_count": 32,
   "metadata": {},
   "outputs": [
    {
     "name": "stdout",
     "output_type": "stream",
     "text": [
      "/dev/shm/test_package/fruit\n",
      "citrus __init__ citrus\n"
     ]
    },
    {
     "name": "stderr",
     "output_type": "stream",
     "text": [
      "Traceback (most recent call last):\n",
      "  File \"<string>\", line 1, in <module>\n",
      "  File \"/dev/shm/test_package/fruit/citrus/__init__.py\", line 1, in <module>\n",
      "    print('citrus __init__', __package__); import orange\n",
      "ModuleNotFoundError: No module named 'orange'\n"
     ]
    }
   ],
   "source": [
    "%%bash\n",
    "source /dev/shm/init.sh\n",
    "\n",
    "echo -e \"print('citrus __init__', __package__); import orange\" > $d\"citrus/__init__.py\" # doesn't work, see cell below\n",
    "echo -e \"print('orange __init__', __package__)\" > $d\"citrus/orange/__init__.py\"\n",
    "\n",
    "source /dev/shm/env.sh\n",
    "\n",
    "cd $d\n",
    "pwd\n",
    "python -c \"import citrus\""
   ]
  },
  {
   "cell_type": "code",
   "execution_count": 33,
   "metadata": {},
   "outputs": [
    {
     "name": "stdout",
     "output_type": "stream",
     "text": [
      "/dev/shm/test_package/fruit\n",
      "citrus __init__ citrus\n",
      "orange __init__ citrus.orange\n"
     ]
    }
   ],
   "source": [
    "%%bash\n",
    "source /dev/shm/init.sh\n",
    "\n",
    "echo -e \"print('citrus __init__', __package__); from . import orange\" > $d\"citrus/__init__.py\" # work as it's relative import\n",
    "echo -e \"print('orange __init__', __package__)\" > $d\"citrus/orange/__init__.py\"\n",
    "\n",
    "source /dev/shm/env.sh\n",
    "\n",
    "cd $d\n",
    "pwd\n",
    "python -c \"import citrus\""
   ]
  },
  {
   "cell_type": "code",
   "execution_count": 34,
   "metadata": {},
   "outputs": [
    {
     "name": "stdout",
     "output_type": "stream",
     "text": [
      "/dev/shm/test_package/fruit\n",
      "citrus __init__ citrus\n",
      "orange __init__ citrus.orange\n",
      "\n",
      "mandarin __init__\n",
      "__package__ citrus.mandarin\n",
      "os.getcwd() /dev/shm/test_package/fruit\n",
      "__file__ /dev/shm/test_package/fruit/citrus/mandarin/__init__.py\n",
      "os.path.dirname /dev/shm/test_package/fruit/citrus/mandarin\n",
      "\n",
      "123 mandarin text\n",
      "\n",
      "123 orange text\n",
      "\n"
     ]
    }
   ],
   "source": [
    "%%bash\n",
    "source /dev/shm/init.sh\n",
    "\n",
    "echo -e \"print('citrus __init__', __package__); from . import orange\" > $d\"citrus/__init__.py\" # work as it's relative import\n",
    "echo -e \"print('orange __init__', __package__); from .. import mandarin\" > $d\"citrus/orange/__init__.py\" # 1 level up\n",
    "echo -e \"123 mandarin text\" > $d\"citrus/mandarin/mandarin.txt\"\n",
    "echo -e \"import os\n",
    "print()\n",
    "print('mandarin __init__')\n",
    "print('__package__', __package__)\n",
    "print('os.getcwd()', os.getcwd())\n",
    "print('__file__', __file__)\n",
    "print('os.path.dirname', os.path.dirname(__file__))\n",
    "print()\n",
    "with open('citrus/mandarin/mandarin.txt') as f: print(f.read())\n",
    "with open('citrus/orange/orange.txt') as f: print(f.read())\" > $d\"citrus/mandarin/__init__.py\"\n",
    "\n",
    "\n",
    "source /dev/shm/env.sh\n",
    "\n",
    "cd $d\n",
    "pwd\n",
    "python -c \"import citrus\""
   ]
  },
  {
   "cell_type": "markdown",
   "metadata": {},
   "source": [
    "### reading data file"
   ]
  },
  {
   "cell_type": "code",
   "execution_count": 35,
   "metadata": {},
   "outputs": [
    {
     "name": "stdout",
     "output_type": "stream",
     "text": [
      "/dev/shm/test_package/fruit\n",
      "citrus __init__ citrus\n",
      "orange __init__ citrus.orange\n",
      "\n",
      "mandarin __init__\n",
      "__package__ citrus.mandarin\n",
      "os.getcwd() /dev/shm/test_package/fruit\n",
      "__file__ /dev/shm/test_package/fruit/citrus/mandarin/__init__.py\n",
      "os.path.dirname /dev/shm/test_package/fruit/citrus/mandarin\n",
      "path /dev/shm/test_package/fruit/citrus/mandarin/../..\n",
      "\n",
      "123 mandarin text\n",
      "\n",
      "123 orange text\n",
      "\n"
     ]
    }
   ],
   "source": [
    "%%bash\n",
    "source /dev/shm/init.sh\n",
    "\n",
    "echo -e \"print('citrus __init__', __package__); from . import orange\" > $d\"citrus/__init__.py\" # work as it's relative import\n",
    "echo -e \"print('orange __init__', __package__); from .. import mandarin\" > $d\"citrus/orange/__init__.py\" # 1 level up\n",
    "echo -e \"123 mandarin text\" > $d\"citrus/mandarin/mandarin.txt\"\n",
    "echo -e \"import os\n",
    "print()\n",
    "print('mandarin __init__')\n",
    "print('__package__', __package__)\n",
    "print('os.getcwd()', os.getcwd())\n",
    "print('__file__', __file__)\n",
    "print('os.path.dirname', os.path.dirname(__file__))\n",
    "\n",
    "dirname = os.path.dirname(__file__)\n",
    "path = os.path.join(dirname, '../..')\n",
    "print('path', path)\n",
    "\n",
    "print()\n",
    "with open(path + '/citrus/mandarin/mandarin.txt') as f: print(f.read())\n",
    "with open(path + '/citrus/orange/orange.txt') as f: print(f.read())\" > $d\"citrus/mandarin/__init__.py\"\n",
    "\n",
    "\n",
    "source /dev/shm/env.sh\n",
    "\n",
    "cd $d\n",
    "pwd\n",
    "python -c \"import citrus\""
   ]
  },
  {
   "cell_type": "markdown",
   "metadata": {},
   "source": [
    "### when built as package, data file can't be found in open(...)"
   ]
  },
  {
   "cell_type": "code",
   "execution_count": 36,
   "metadata": {},
   "outputs": [
    {
     "name": "stdout",
     "output_type": "stream",
     "text": [
      "Processing /dev/shm/test_package\n",
      "Installing collected packages: A\n",
      "    Running setup.py install for A: started\n",
      "    Running setup.py install for A: finished with status 'done'\n",
      "Successfully installed A-0.0.0\n",
      "\n",
      "A-0.0.0-py3.6.egg-info\n",
      "A.egg-info\n",
      "easy_install.py\n",
      "empty.py\n",
      "fruit\n",
      "MANIFEST.in\n",
      "pip\n",
      "pip-20.0.2.dist-info\n",
      "pip-delete-this-directory.txt\n",
      "pip-egg-info\n",
      "pkg_resources\n",
      "__pycache__\n",
      "setuptools\n",
      "setuptools-46.1.1.dist-info\n",
      "veg\n",
      "\n",
      " | | | | | |-fruit\n",
      " | | | | | | |-citrus\n",
      " | | | | | | | |-mandarin\n",
      " | | | | | | | | |-mandarin.txt\n",
      " | | | | | | | | |-__init__.py\n",
      " | | | | | | | |-__init__.py\n",
      " | | | | | | | |-orange\n",
      " | | | | | | | | |-orange.txt\n",
      " | | | | | | | | |-__init__.py\n",
      " | | | | | | |-fruit.txt\n",
      "\n",
      "show some testing\n",
      "\n",
      "/home/ec2-user\n",
      "citrus __init__ fruit.citrus\n",
      "orange __init__ fruit.citrus.orange\n",
      "\n",
      "mandarin __init__\n",
      "__package__ fruit.citrus.mandarin\n",
      "os.getcwd() /home/ec2-user\n",
      "__file__ /dev/shm/venv/lib/python3.6/site-packages/fruit/citrus/mandarin/__init__.py\n",
      "\n"
     ]
    },
    {
     "name": "stderr",
     "output_type": "stream",
     "text": [
      "Traceback (most recent call last):\n",
      "  File \"<string>\", line 1, in <module>\n",
      "  File \"/dev/shm/venv/lib/python3.6/site-packages/fruit/citrus/__init__.py\", line 1, in <module>\n",
      "    print('citrus __init__', __package__); from . import orange\n",
      "  File \"/dev/shm/venv/lib/python3.6/site-packages/fruit/citrus/orange/__init__.py\", line 1, in <module>\n",
      "    print('orange __init__', __package__); from .. import mandarin\n",
      "  File \"/dev/shm/venv/lib/python3.6/site-packages/fruit/citrus/mandarin/__init__.py\", line 8, in <module>\n",
      "    with open('citrus/mandarin/mandarin.txt') as f: print(f.read())\n",
      "FileNotFoundError: [Errno 2] No such file or directory: 'citrus/mandarin/mandarin.txt'\n"
     ]
    }
   ],
   "source": [
    "%%bash\n",
    "source /dev/shm/init.sh\n",
    "\n",
    "echo -e \"print('citrus __init__', __package__); from . import orange\" > $d\"citrus/__init__.py\" # work as it's relative import\n",
    "echo -e \"print('orange __init__', __package__); from .. import mandarin\" > $d\"citrus/orange/__init__.py\" # 1 level up\n",
    "echo -e \"123 mandarin text\" > $d\"citrus/mandarin/mandarin.txt\"\n",
    "echo -e \"import os\n",
    "print()\n",
    "print('mandarin __init__')\n",
    "print('__package__', __package__)\n",
    "print('os.getcwd()', os.getcwd())\n",
    "print('__file__', __file__)\n",
    "print()\n",
    "with open('citrus/mandarin/mandarin.txt') as f: print(f.read())\n",
    "with open('citrus/orange/orange.txt') as f: print(f.read())\" > $d\"citrus/mandarin/__init__.py\"\n",
    "\n",
    "\n",
    "source /dev/shm/test.sh\n",
    "\n",
    "pwd\n",
    "python -c \"import fruit.citrus\""
   ]
  },
  {
   "cell_type": "markdown",
   "metadata": {},
   "source": [
    "### Use __file__ & os.path should work"
   ]
  },
  {
   "cell_type": "code",
   "execution_count": 37,
   "metadata": {},
   "outputs": [
    {
     "name": "stdout",
     "output_type": "stream",
     "text": [
      "Processing /dev/shm/test_package\n",
      "Installing collected packages: A\n",
      "    Running setup.py install for A: started\n",
      "    Running setup.py install for A: finished with status 'done'\n",
      "Successfully installed A-0.0.0\n",
      "\n",
      "A-0.0.0-py3.6.egg-info\n",
      "A.egg-info\n",
      "easy_install.py\n",
      "empty.py\n",
      "fruit\n",
      "MANIFEST.in\n",
      "pip\n",
      "pip-20.0.2.dist-info\n",
      "pip-delete-this-directory.txt\n",
      "pip-egg-info\n",
      "pkg_resources\n",
      "__pycache__\n",
      "setuptools\n",
      "setuptools-46.1.1.dist-info\n",
      "veg\n",
      "\n",
      " | | | | | |-fruit\n",
      " | | | | | | |-citrus\n",
      " | | | | | | | |-mandarin\n",
      " | | | | | | | | |-mandarin.txt\n",
      " | | | | | | | | |-__init__.py\n",
      " | | | | | | | |-c2.py\n",
      " | | | | | | | |-__init__.py\n",
      " | | | | | | | |-orange\n",
      " | | | | | | | | |-orange.txt\n",
      " | | | | | | | | |-__init__.py\n",
      " | | | | | | | |-c.py\n",
      " | | | | | | |-fruit.txt\n",
      "\n",
      "show some testing\n",
      "\n",
      "/home/ec2-user\n",
      "citrus __init__ fruit.citrus\n",
      "orange __init__ fruit.citrus.orange\n",
      "\n",
      "mandarin __init__\n",
      "__package__ fruit.citrus.mandarin\n",
      "os.getcwd() /home/ec2-user\n",
      "__file__ /dev/shm/venv/lib/python3.6/site-packages/fruit/citrus/mandarin/__init__.py\n",
      "os.path.dirname /dev/shm/venv/lib/python3.6/site-packages/fruit/citrus/mandarin\n",
      "path /dev/shm/venv/lib/python3.6/site-packages/fruit/citrus/mandarin/../..\n",
      "\n",
      "123 mandarin text\n",
      "\n",
      "123 orange text\n",
      "\n",
      "c\n",
      "c2\n"
     ]
    }
   ],
   "source": [
    "%%bash\n",
    "source /dev/shm/init.sh\n",
    "\n",
    "echo -e \"print('citrus __init__', __package__); from . import orange; from . import c\" > $d\"citrus/__init__.py\"\n",
    "echo -e \"print('c'); from . import c2\" > $d\"citrus/c.py\"\n",
    "echo -e \"print('c2')\" > $d\"citrus/c2.py\"\n",
    "\n",
    "\n",
    "echo -e \"print('orange __init__', __package__); from .. import mandarin\" > $d\"citrus/orange/__init__.py\" # 1 level up\n",
    "echo -e \"123 mandarin text\" > $d\"citrus/mandarin/mandarin.txt\"\n",
    "echo -e \"import os\n",
    "print()\n",
    "print('mandarin __init__')\n",
    "print('__package__', __package__)\n",
    "print('os.getcwd()', os.getcwd())\n",
    "print('__file__', __file__)\n",
    "print('os.path.dirname', os.path.dirname(__file__))\n",
    "\n",
    "dirname = os.path.dirname(__file__)\n",
    "path = os.path.join(dirname, '../..')\n",
    "print('path', path)\n",
    "\n",
    "print()\n",
    "with open(path + '/citrus/mandarin/mandarin.txt') as f: print(f.read())\n",
    "with open(path + '/citrus/orange/orange.txt') as f: print(f.read())\" > $d\"citrus/mandarin/__init__.py\"\n",
    "\n",
    "\n",
    "source /dev/shm/test.sh\n",
    "\n",
    "pwd\n",
    "python -c \"import fruit.citrus\""
   ]
  },
  {
   "cell_type": "code",
   "execution_count": null,
   "metadata": {},
   "outputs": [],
   "source": []
  },
  {
   "cell_type": "code",
   "execution_count": null,
   "metadata": {},
   "outputs": [],
   "source": []
  }
 ],
 "metadata": {
  "kernelspec": {
   "display_name": "conda_python3",
   "language": "python",
   "name": "conda_python3"
  },
  "language_info": {
   "codemirror_mode": {
    "name": "ipython",
    "version": 3
   },
   "file_extension": ".py",
   "mimetype": "text/x-python",
   "name": "python",
   "nbconvert_exporter": "python",
   "pygments_lexer": "ipython3",
   "version": "3.6.5"
  }
 },
 "nbformat": 4,
 "nbformat_minor": 4
}
